{
 "cells": [
  {
   "cell_type": "code",
   "execution_count": 1,
   "metadata": {},
   "outputs": [],
   "source": [
    "import numpy as np\n",
    "import matplotlib.pyplot as plt #plotting package\n",
    "%matplotlib inline"
   ]
  },
  {
   "cell_type": "code",
   "execution_count": 2,
   "metadata": {},
   "outputs": [],
   "source": [
    "#  Define the distribution to be sampled\n",
    "def prob_dist1(x, p1, p2, A):\n",
    "    \"\"\"Gaussian distribution with mean mu, \n",
    "    Standard deviation sigma and 'amplitude' A\n",
    "    (A = 1 gives normalized gaussian.)\"\"\"\n",
    "    mu = p1\n",
    "    sigma = p2\n",
    "    chi_sq = 0.5*((x - mu)/sigma)**2\n",
    "    f = A*np.exp(-1.0*chi_sq)/(np.sqrt(2.0*np.pi)*sigma)\n",
    "    return f\n",
    "\n",
    "def prob_dist2(x, p1, p2, A):\n",
    "    \"\"\"Sum of two Gaussian distribution with mean mu1 & mu2, \n",
    "    Standard deviation sigma1 & sigma2 and 'amplitudes' A1 & A2\n",
    "    (e.g. A1 = 0.5 & A2 = 0.5 gives normalized gaussian.)\"\"\"\n",
    "    A1 = 0.5\n",
    "    mu1 = p1\n",
    "    sigma1 = p2\n",
    "    chi_sq1 = 0.5*((x - mu1)/sigma1)**2\n",
    "    f1 = A1*np.exp(-1.0*chi_sq1)/(np.sqrt(2.0*np.pi)*sigma1)\n",
    "    A2 = 0.5\n",
    "    mu2 = p1 + 3*p2\n",
    "    sigma2 = p2*0.5\n",
    "    chi_sq2 = 0.5*((x - mu2)/sigma2)**2\n",
    "    f2 = A2*np.exp(-1.0*chi_sq2)/(np.sqrt(2.0*np.pi)*sigma2)\n",
    "    return f1 + f2"
   ]
  },
  {
   "cell_type": "code",
   "execution_count": 3,
   "metadata": {},
   "outputs": [],
   "source": [
    "#parameter of the distribution to be sampled\n",
    "p1 = 0.0\n",
    "p2 = 1.0\n",
    "A = 1.0 #for normalized gaussian distribution"
   ]
  },
  {
   "cell_type": "code",
   "execution_count": 4,
   "metadata": {},
   "outputs": [
    {
     "data": {
      "text/plain": [
       "[<matplotlib.lines.Line2D at 0x7f59b89ba0d0>]"
      ]
     },
     "execution_count": 4,
     "metadata": {},
     "output_type": "execute_result"
    },
    {
     "data": {
      "image/png": "[encoded data removed]",
      "text/plain": [
       "<Figure size 800x600 with 1 Axes>"
      ]
     },
     "metadata": {
      "needs_background": "light"
     },
     "output_type": "display_data"
    }
   ],
   "source": [
    "fig = plt.figure(figsize=(8,6), dpi=100)\n",
    "fig.add_subplot(111)\n",
    "x = np.arange(-8*p2, 8*p2, 0.01)\n",
    "plt.plot(x, prob_dist1(x, p1, p2, A), linewidth = 2.0, color = 'k')"
   ]
  },
  {
   "cell_type": "code",
   "execution_count": 5,
   "metadata": {},
   "outputs": [],
   "source": [
    "#Choose initial point to start the chain\n",
    "theta_0 = 1.0\n",
    "theta_i = theta_0\n",
    "\n",
    "#Parameters of the proposal distribution\n",
    "#In our example, standard deviation of the gaussian proposal distribution\n",
    "sigma_p = 1.0"
   ]
  },
  {
   "cell_type": "code",
   "execution_count": 6,
   "metadata": {},
   "outputs": [],
   "source": [
    "#Seed for random number generation while sampling\n",
    "seed1 = 10247\n",
    "np.random.seed(seed = seed1)"
   ]
  },
  {
   "cell_type": "code",
   "execution_count": 7,
   "metadata": {},
   "outputs": [],
   "source": [
    "#number of samples\n",
    "nsample = 100000"
   ]
  },
  {
   "cell_type": "code",
   "execution_count": 8,
   "metadata": {},
   "outputs": [],
   "source": [
    "#array to store total sample\n",
    "total_sample = np.ndarray(shape = (nsample, 2))\n",
    "#array to store accepted sample\n",
    "acptd_sample = np.ndarray(shape = (nsample, 2))\n",
    "\n",
    "#array to store the value of distribution function\n",
    "f = np.ndarray(shape = (nsample, 1))"
   ]
  },
  {
   "cell_type": "code",
   "execution_count": 9,
   "metadata": {},
   "outputs": [],
   "source": [
    "#Compute the function at the starting point\n",
    "f[0] = prob_dist1(theta_i, p1, p2, A)"
   ]
  },
  {
   "cell_type": "code",
   "execution_count": 10,
   "metadata": {},
   "outputs": [],
   "source": [
    "xc = -0.75\n",
    "xl = -1.15\n",
    "xr = 0.00"
   ]
  },
  {
   "cell_type": "code",
   "execution_count": 11,
   "metadata": {},
   "outputs": [],
   "source": [
    "dx = 0.1"
   ]
  },
  {
   "cell_type": "code",
   "execution_count": 12,
   "metadata": {},
   "outputs": [],
   "source": [
    "rand_num_list = []\n",
    "c_count = 0\n",
    "r_count = 0\n",
    "l_count = 0\n",
    "acc_r_count = 0\n",
    "acc_l_count = 0\n",
    "#Following loop does the Markov Chain Monte Carlo (MCMC) \n",
    "#sampling of the distribution.\n",
    "\n",
    "n_accept=0\n",
    "for i in range(1, nsample,1):\n",
    "    ##gaussian proposal distribution\n",
    "    theta_star = np.random.normal(loc = theta_i, scale = sigma_p, size = 1)\n",
    "    total_sample[i,:] = np.asarray([i, theta_star[0]])\n",
    "    ##Compute function at the proposed point\n",
    "    f_star = prob_dist1(theta_star, p1, p2, A)\n",
    "    #%%%%%%%\n",
    "    if acptd_sample[i-1,1] < xc + dx and acptd_sample[i-1,1] > xc - dx:\n",
    "        flag = 1\n",
    "        c_count += 1\n",
    "        #print(\"In xc\")\n",
    "    else:\n",
    "        flag = 0\n",
    "    #%%%%%%%\n",
    "    if flag == 1:\n",
    "        if theta_star < xl + dx and theta_star > xl - dx:\n",
    "            l_count += 1\n",
    "            #print(\"In xl\")\n",
    "        elif theta_star < xr + dx and theta_star > xr - dx:\n",
    "            r_count += 1\n",
    "            #print(\"In xr\")\n",
    "    #Metropolis rule\n",
    "    if f_star > f[i-1]:\n",
    "        ##accept proposed point\n",
    "        theta_i = theta_star\n",
    "        acptd_sample[i,0] = i\n",
    "        acptd_sample[i,1] = theta_i\n",
    "        f[i] = f_star\n",
    "        n_accept += 1\n",
    "    else:\n",
    "        alpha = np.random.uniform(low=0.0, high=1.0, size=None)\n",
    "        ratio = f_star/f[i -1]\n",
    "        if ratio > alpha:\n",
    "            ##accept proposed point\n",
    "            theta_i = theta_star\n",
    "            acptd_sample[i,:] = np.asarray([i, theta_i[0]])\n",
    "            f[i] = f_star\n",
    "            n_accept += 1\n",
    "        else:\n",
    "            ##reject proposed point\n",
    "            theta_i = theta_i #chain stays at the currant point.\n",
    "            #Currant (not the proposed) point is re-added to the accepted sample.\n",
    "            acptd_sample[i,:] = np.asarray([i, theta_i[0]])\n",
    "            f[i] = f[i-1]\n",
    "    #print(\"acceptance ratio:\")\n",
    "    #print(n_accept/(1.0*i))\n",
    "    #rand_num_list.append(alpha)\n",
    "    if flag == 1:\n",
    "        if acptd_sample[i,1] < xl + dx and acptd_sample[i,1] > xl - dx:\n",
    "            acc_l_count += 1\n",
    "            #print(\"In xl\")\n",
    "            rand_num_list.append(alpha)\n",
    "        elif acptd_sample[i,1] < xr + dx and acptd_sample[i,1] > xr - dx:\n",
    "            acc_r_count += 1\n",
    "            #print(\"In xr\")"
   ]
  },
  {
   "cell_type": "code",
   "execution_count": 13,
   "metadata": {},
   "outputs": [
    {
     "name": "stdout",
     "output_type": "stream",
     "text": [
      "[6076, 368, 445]\n"
     ]
    }
   ],
   "source": [
    "print([c_count, r_count, l_count])"
   ]
  },
  {
   "cell_type": "code",
   "execution_count": 14,
   "metadata": {},
   "outputs": [
    {
     "name": "stdout",
     "output_type": "stream",
     "text": [
      "[368, 306]\n"
     ]
    }
   ],
   "source": [
    "print([acc_r_count, acc_l_count])"
   ]
  },
  {
   "cell_type": "code",
   "execution_count": 15,
   "metadata": {},
   "outputs": [
    {
     "data": {
      "text/plain": [
       "0.6876404494382022"
      ]
     },
     "execution_count": 15,
     "metadata": {},
     "output_type": "execute_result"
    }
   ],
   "source": [
    "1.0*acc_l_count/l_count"
   ]
  },
  {
   "cell_type": "code",
   "execution_count": 16,
   "metadata": {},
   "outputs": [
    {
     "data": {
      "text/plain": [
       "1.0"
      ]
     },
     "execution_count": 16,
     "metadata": {},
     "output_type": "execute_result"
    }
   ],
   "source": [
    "1.0*acc_r_count/r_count"
   ]
  },
  {
   "cell_type": "code",
   "execution_count": 17,
   "metadata": {},
   "outputs": [
    {
     "data": {
      "text/plain": [
       "0.6666666666666667"
      ]
     },
     "execution_count": 17,
     "metadata": {},
     "output_type": "execute_result"
    }
   ],
   "source": [
    "0.2/0.3"
   ]
  },
  {
   "cell_type": "code",
   "execution_count": 18,
   "metadata": {},
   "outputs": [
    {
     "data": {
      "text/plain": [
       "306"
      ]
     },
     "execution_count": 18,
     "metadata": {},
     "output_type": "execute_result"
    }
   ],
   "source": [
    "len(rand_num_list)"
   ]
  },
  {
   "cell_type": "code",
   "execution_count": 19,
   "metadata": {},
   "outputs": [
    {
     "data": {
      "image/png": "[encoded data removed]",
      "text/plain": [
       "<Figure size 432x288 with 1 Axes>"
      ]
     },
     "metadata": {
      "needs_background": "light"
     },
     "output_type": "display_data"
    }
   ],
   "source": [
    "h1 = plt.hist(rand_num_list, bins=10, histtype='step')\n",
    "plt.grid()\n",
    "plt.show()"
   ]
  },
  {
   "cell_type": "code",
   "execution_count": 20,
   "metadata": {},
   "outputs": [
    {
     "data": {
      "image/png": "[encoded data removed]",
      "text/plain": [
       "<Figure size 432x288 with 1 Axes>"
      ]
     },
     "metadata": {
      "needs_background": "light"
     },
     "output_type": "display_data"
    }
   ],
   "source": [
    "plt.plot(rand_num_list)\n",
    "plt.show()"
   ]
  },
  {
   "cell_type": "code",
   "execution_count": 21,
   "metadata": {},
   "outputs": [
    {
     "data": {
      "text/plain": [
       "0.3989422804014327"
      ]
     },
     "execution_count": 21,
     "metadata": {},
     "output_type": "execute_result"
    }
   ],
   "source": [
    "prob_dist1(xr, p1, p2, A)"
   ]
  },
  {
   "cell_type": "code",
   "execution_count": 22,
   "metadata": {},
   "outputs": [
    {
     "data": {
      "text/plain": [
       "0.30113743215480443"
      ]
     },
     "execution_count": 22,
     "metadata": {},
     "output_type": "execute_result"
    }
   ],
   "source": [
    "prob_dist1(xc, p1, p2, A)"
   ]
  },
  {
   "cell_type": "code",
   "execution_count": 23,
   "metadata": {},
   "outputs": [
    {
     "data": {
      "text/plain": [
       "0.20593626871997478"
      ]
     },
     "execution_count": 23,
     "metadata": {},
     "output_type": "execute_result"
    }
   ],
   "source": [
    "prob_dist1(xl, p1, p2, A)"
   ]
  },
  {
   "cell_type": "code",
   "execution_count": 24,
   "metadata": {},
   "outputs": [
    {
     "data": {
      "text/plain": [
       "0.6838614092123559"
      ]
     },
     "execution_count": 24,
     "metadata": {},
     "output_type": "execute_result"
    }
   ],
   "source": [
    "prob_dist1(xl, p1, p2, A)/prob_dist1(xc, p1, p2, A)"
   ]
  },
  {
   "cell_type": "code",
   "execution_count": 25,
   "metadata": {},
   "outputs": [
    {
     "data": {
      "text/plain": [
       "0.5655254386995371"
      ]
     },
     "execution_count": 25,
     "metadata": {},
     "output_type": "execute_result"
    }
   ],
   "source": [
    "prob_dist1(xl-dx, p1, p2, A)/prob_dist1(xc+dx, p1, p2, A)"
   ]
  },
  {
   "cell_type": "code",
   "execution_count": 26,
   "metadata": {},
   "outputs": [
    {
     "data": {
      "text/plain": [
       "0.8269591339433624"
      ]
     },
     "execution_count": 26,
     "metadata": {},
     "output_type": "execute_result"
    }
   ],
   "source": [
    "prob_dist1(xl+dx, p1, p2, A)/prob_dist1(xc-dx, p1, p2, A)"
   ]
  },
  {
   "cell_type": "code",
   "execution_count": null,
   "metadata": {},
   "outputs": [],
   "source": []
  }
 ],
 "metadata": {
  "anaconda-cloud": {},
  "kernelspec": {
   "display_name": "Python 3",
   "language": "python",
   "name": "python3"
  },
  "language_info": {
   "codemirror_mode": {
    "name": "ipython",
    "version": 3
   },
   "file_extension": ".py",
   "mimetype": "text/x-python",
   "name": "python",
   "nbconvert_exporter": "python",
   "pygments_lexer": "ipython3",
   "version": "3.8.8"
  }
 },
 "nbformat": 4,
 "nbformat_minor": 1
}
